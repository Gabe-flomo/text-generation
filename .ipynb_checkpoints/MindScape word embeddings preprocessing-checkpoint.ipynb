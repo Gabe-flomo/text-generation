{
 "cells": [
  {
   "cell_type": "markdown",
   "metadata": {},
   "source": [
    "# Preprocessing\n",
    "* Convert letters to lowercase\n",
    "* convert numbers into words (excluding timestamps)\n",
    "* remove punctuation\n",
    "* remove white space\n",
    "* expand abbreviations\n",
    "* remove stop words"
   ]
  },
  {
   "cell_type": "code",
   "execution_count": 16,
   "metadata": {},
   "outputs": [],
   "source": [
    "import re\n",
    "import string\n",
    "import numpy as np \n",
    "import pandas as pd\n",
    "import nltk as nlp\n",
    "from sklearn.feature_extraction.stop_words import ENGLISH_STOP_WORDS\n",
    "# import spacy # for Part Of Speech  tagging\n",
    "import tqdm\n",
    "import os"
   ]
  },
  {
   "cell_type": "code",
   "execution_count": 20,
   "metadata": {},
   "outputs": [],
   "source": [
    "path = r'E:\\Documents\\My Projects\\Text Scraper\\data'"
   ]
  },
  {
   "cell_type": "code",
   "execution_count": 63,
   "metadata": {},
   "outputs": [],
   "source": [
    "def get_files(path, names_only = False):\n",
    "    ''' Returns a list of filepaths from a directory'''\n",
    "    files = list()\n",
    "    for file in os.listdir(path):\n",
    "        #print(file)\n",
    "        # append the fullpath\n",
    "        if names_only:\n",
    "            files.append(file)\n",
    "        else:\n",
    "            files.append(os.path.join(path,file))\n",
    "    \n",
    "    return files\n",
    "\n",
    "def read_files(filepaths):\n",
    "    ''' Reads files in a path and returns as a dictionary'''\n",
    "    text = dict()\n",
    "    for index, file in enumerate(filepaths):\n",
    "        with open(file, 'r', encoding = \"UTF-8\") as data:\n",
    "            content = data.read()\n",
    "        \n",
    "        text[index] = content\n",
    "        \n",
    "    print(f'Done! Corpus size: {len(text)} documents')\n",
    "    return text\n",
    "\n",
    "\n",
    "    "
   ]
  },
  {
   "cell_type": "code",
   "execution_count": 49,
   "metadata": {},
   "outputs": [],
   "source": [
    "files = get_files(path)"
   ]
  },
  {
   "cell_type": "code",
   "execution_count": 50,
   "metadata": {},
   "outputs": [
    {
     "name": "stdout",
     "output_type": "stream",
     "text": [
      "Done! Corpus size: 107 documents\n"
     ]
    }
   ],
   "source": [
    "corpus = read_files(files)"
   ]
  },
  {
   "cell_type": "code",
   "execution_count": 53,
   "metadata": {},
   "outputs": [
    {
     "name": "stdout",
     "output_type": "stream",
     "text": [
      "81961\n"
     ]
    }
   ],
   "source": [
    "print(len(corpus[0]))"
   ]
  },
  {
   "cell_type": "code",
   "execution_count": 103,
   "metadata": {},
   "outputs": [
    {
     "name": "stdout",
     "output_type": "stream",
     "text": [
      "9.085.542\n"
     ]
    }
   ],
   "source": [
    "def prnt(value):\n",
    "    ''' print a number with commas '''\n",
    "    \n",
    "    value = str(value)\n",
    "    value_flipped = list(value[::-1])\n",
    "#     print(value_flipped)\n",
    "    pos = list()\n",
    "    for i in range(3,len(value_flipped)+1,4):\n",
    "        pos.append(i)\n",
    "        \n",
    "    for i in pos:\n",
    "        value_flipped.insert(i,\".\")\n",
    "        \n",
    "    print(\"\".join(value_flipped[::-1]))\n",
    "               \n",
    "total = 0\n",
    "for index, text in corpus.items():\n",
    "    total += len(corpus[index])\n",
    "\n",
    "\n",
    "prnt(total)    "
   ]
  },
  {
   "cell_type": "code",
   "execution_count": 105,
   "metadata": {},
   "outputs": [],
   "source": [
    "sample = corpus[12]"
   ]
  },
  {
   "cell_type": "code",
   "execution_count": 107,
   "metadata": {},
   "outputs": [],
   "source": [
    "def remove_punctuation():\n",
    "    pass\n",
    "\n",
    "def convert_numbers():\n",
    "    pass\n",
    "\n",
    "def expand_abbrv():\n",
    "    pass\n",
    "\n",
    "def lemmeatize():\n",
    "    pass\n",
    "\n",
    "def stem():\n",
    "    pass\n",
    "\n",
    "def remove_timestamps():\n",
    "    pass\n"
   ]
  },
  {
   "cell_type": "code",
   "execution_count": null,
   "metadata": {},
   "outputs": [],
   "source": []
  }
 ],
 "metadata": {
  "kernelspec": {
   "display_name": "Python 3",
   "language": "python",
   "name": "python3"
  },
  "language_info": {
   "codemirror_mode": {
    "name": "ipython",
    "version": 3
   },
   "file_extension": ".py",
   "mimetype": "text/x-python",
   "name": "python",
   "nbconvert_exporter": "python",
   "pygments_lexer": "ipython3",
   "version": "3.7.4"
  }
 },
 "nbformat": 4,
 "nbformat_minor": 2
}
