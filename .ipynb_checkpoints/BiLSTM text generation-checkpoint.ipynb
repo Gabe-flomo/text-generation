{
 "cells": [
  {
   "cell_type": "code",
   "execution_count": 124,
   "metadata": {},
   "outputs": [
    {
     "name": "stdout",
     "output_type": "stream",
     "text": [
      "Wall time: 0 ns\n"
     ]
    }
   ],
   "source": [
    "%%time\n",
    "import numpy as np \n",
    "import pandas as pd\n",
    "import os\n",
    "import pickle as pk\n",
    "import matplotlib.pyplot as plt\n",
    "from random import randint\n",
    "# Machine Learning\n",
    "import tensorflow as tf\n",
    "from keras.preprocessing.text import Tokenizer\n",
    "from keras import backend as K\n",
    "from keras.preprocessing.sequence import pad_sequences\n",
    "from keras.utils import to_categorical\n",
    "from keras.engine.topology import Layer\n",
    "from keras.callbacks import ModelCheckpoint, EarlyStopping\n",
    "from keras import initializers, regularizers, constraints, optimizers, layers\n",
    "from keras.layers import (Dense, Bidirectional, LSTM, Flatten, \n",
    "                          Dropout, Embedding, BatchNormalization)\n",
    "from keras.models import Sequential, load_model\n",
    "from keras.optimizers import Adam\n",
    "from keras.callbacks import EarlyStopping"
   ]
  },
  {
   "cell_type": "markdown",
   "metadata": {},
   "source": [
    "# Loading The Model"
   ]
  },
  {
   "cell_type": "code",
   "execution_count": 6,
   "metadata": {},
   "outputs": [],
   "source": [
    "def load_seq(path):\n",
    "    with open(path,'rb') as file:\n",
    "        seqs = pk.load(file)\n",
    "        print(f'Sequences loaded from: {path}')\n",
    "    \n",
    "    return seqs"
   ]
  },
  {
   "cell_type": "code",
   "execution_count": 7,
   "metadata": {},
   "outputs": [
    {
     "name": "stdout",
     "output_type": "stream",
     "text": [
      "Sequences loaded from: E:\\Documents\\My Projects\\Text Generation\\data\\HEAM.seq\n"
     ]
    },
    {
     "data": {
      "text/plain": [
       "'introduction the twothousandyearold assumptionon december the deadliest school shooting in us history took place at sandy hook elementary school in newtown connecticut twentysix people inside the school including twenty children were massacred by a lone gunman several weeks after this horror i watched the governor of connecticut dannel malloy give his'"
      ]
     },
     "execution_count": 7,
     "metadata": {},
     "output_type": "execute_result"
    }
   ],
   "source": [
    "location = r'E:\\Documents\\My Projects\\Text Generation\\data\\HEAM.seq'\n",
    "sequences = load_seq(location)\n",
    "sequences[0]"
   ]
  },
  {
   "cell_type": "markdown",
   "metadata": {},
   "source": [
    "# Encoding the sequences\n",
    "The word embedding layer expects input sequences to be comprised of integers.\n",
    "We can map each word in our vocabulary to a unique integer and encode our input sequences. Later, when we make predictions, we can convert the prediction to numbers and look up their associated words in the same mapping."
   ]
  },
  {
   "cell_type": "code",
   "execution_count": 11,
   "metadata": {},
   "outputs": [],
   "source": [
    "encoder = Tokenizer()\n",
    "encoder.fit_on_texts(sequences)\n",
    "encoded_sequences = encoder.texts_to_sequences(sequences)"
   ]
  },
  {
   "cell_type": "code",
   "execution_count": 20,
   "metadata": {},
   "outputs": [
    {
     "name": "stdout",
     "output_type": "stream",
     "text": [
      "introduction  ---- mapped to ---> [5586, 1, 10246, 10245, 10244, 1, 10243, 570, 2271, 6, 107, 644, 1010]\n"
     ]
    }
   ],
   "source": [
    "print(f'{sequences[0][:13]} ---- mapped to ---> {encoded_sequences[0][:13]}')"
   ]
  },
  {
   "cell_type": "markdown",
   "metadata": {},
   "source": [
    "# Mapping the Encoding\n",
    "We can access the mapping of words to integers as a dictionary attribute called word_index on the Tokenizer object.\n",
    "We need to know the size of the vocabulary for defining the embedding layer later. We can determine the vocabulary by calculating the size of the mapping dictionary.\n",
    "\n",
    "Words are assigned values from 1 to the total number of words (e.g. 7,409). The Embedding layer needs to allocate a vector representation for each word in this vocabulary from index 1 to the largest index and because indexing of arrays is zero-offset, the index of the word at the end of the vocabulary will be 7,409; that means the array must be 7,409 + 1 in length."
   ]
  },
  {
   "cell_type": "code",
   "execution_count": 64,
   "metadata": {},
   "outputs": [
    {
     "data": {
      "text/plain": [
       "10248"
      ]
     },
     "execution_count": 64,
     "metadata": {},
     "output_type": "execute_result"
    }
   ],
   "source": [
    "vocab_size = len(encoder.word_index) + 1\n",
    "vocab_size"
   ]
  },
  {
   "cell_type": "markdown",
   "metadata": {},
   "source": [
    "# Sequence Inputs and Output\n",
    "Now that we have encoded the input sequences, we need to separate them into input (X) and output (y) elements.\n",
    "\n",
    "We can do this with array slicing.\n",
    "\n",
    "After separating, we need to one hot encode the output word. This means converting it from an integer to a vector of 0 values, one for each word in the vocabulary, with a 1 to indicate the specific word at the index of the words integer value.\n",
    "\n",
    "This is so that the model learns to predict the probability distribution for the next word and the ground truth from which to learn from is 0 for all words except the actual word that comes next.\n",
    "\n",
    "Keras provides the to_categorical() that can be used to one hot encode the output words for each input-output sequence pair.\n",
    "\n",
    "Finally, we need to specify to the Embedding layer how long input sequences are. We know that there are 50 words because we designed the model, but a good generic way to specify that is to use the second dimension (number of columns) of the input data’s shape. That way, if you change the length of sequences when preparing data, you do not need to change this data loading code; it is generic.\n",
    "\n",
    "# Split Input and Output Features\n",
    "It is common to split your loaded data into input variables (X) and the output variable (y).\n",
    "\n",
    "We can do this by slicing all rows and all columns up to, but before the last column, then separately indexing the last column.\n",
    "\n",
    "For the input features, we can select all rows and all columns except the last one by specifying ‘:’ for in the rows index, and :-1 in the columns index."
   ]
  },
  {
   "cell_type": "code",
   "execution_count": 45,
   "metadata": {},
   "outputs": [
    {
     "data": {
      "text/plain": [
       "50"
      ]
     },
     "execution_count": 45,
     "metadata": {},
     "output_type": "execute_result"
    }
   ],
   "source": [
    "# convert from list to a numpy array\n",
    "sequences = np.array(encoded_sequences)\n",
    "x, y = sequences[:,:-1], sequences[:,-1]\n",
    "# the classes are the unique words\n",
    "y = to_categorical(y, num_classes=vocab_size)\n",
    "seq_length = x.shape[1]\n",
    "seq_length"
   ]
  },
  {
   "cell_type": "markdown",
   "metadata": {},
   "source": [
    "# Fit Model\n",
    "We can now define and fit our language model on the training data.\n",
    "\n",
    "The learned embedding needs to know the size of the vocabulary and the length of input sequences as previously discussed. It also has a parameter to specify how many dimensions will be used to represent each word. That is, the size of the embedding vector space.\n",
    "\n",
    "Common values are 50, 100, and 300. We will use 50 here, but consider testing smaller or larger values.\n",
    "\n",
    "We will use a two LSTM hidden layers with 100 memory cells each. More memory cells and a deeper network may achieve better results.\n",
    "\n",
    "A dense fully connected layer with 100 neurons connects to the LSTM hidden layers to interpret the features extracted from the sequence. The output layer predicts the next word as a single vector the size of the vocabulary with a probability for each word in the vocabulary. A softmax activation function is used to ensure the outputs have the characteristics of normalized probabilities.\n",
    "\n",
    "__input_length:__ Length of input sequences, when it is constant. This argument is required if you are going to connect Flatten then Dense layers upstream (without it, the shape of the dense outputs cannot be computed).\n"
   ]
  },
  {
   "cell_type": "code",
   "execution_count": 67,
   "metadata": {},
   "outputs": [
    {
     "name": "stdout",
     "output_type": "stream",
     "text": [
      "Model: \"sequential_13\"\n",
      "_________________________________________________________________\n",
      "Layer (type)                 Output Shape              Param #   \n",
      "=================================================================\n",
      "embedding_11 (Embedding)     (None, 50, 75)            768600    \n",
      "_________________________________________________________________\n",
      "bidirectional_18 (Bidirectio (None, 50, 200)           140800    \n",
      "_________________________________________________________________\n",
      "dropout_15 (Dropout)         (None, 50, 200)           0         \n",
      "_________________________________________________________________\n",
      "bidirectional_19 (Bidirectio (None, 50, 200)           240800    \n",
      "_________________________________________________________________\n",
      "dropout_16 (Dropout)         (None, 50, 200)           0         \n",
      "_________________________________________________________________\n",
      "flatten_1 (Flatten)          (None, 10000)             0         \n",
      "_________________________________________________________________\n",
      "dense_11 (Dense)             (None, 100)               1000100   \n",
      "_________________________________________________________________\n",
      "dropout_17 (Dropout)         (None, 100)               0         \n",
      "_________________________________________________________________\n",
      "dense_12 (Dense)             (None, 10248)             1035048   \n",
      "=================================================================\n",
      "Total params: 3,185,348\n",
      "Trainable params: 3,185,348\n",
      "Non-trainable params: 0\n",
      "_________________________________________________________________\n"
     ]
    }
   ],
   "source": [
    "# Model creation\n",
    "model = Sequential()\n",
    "# input dimensions: vocab_size\n",
    "# output dimensions: vector_size\n",
    "model.add(Embedding(vocab_size, 75, input_length = seq_length))\n",
    "model.add(Bidirectional(LSTM(100, return_sequences = True)))\n",
    "model.add(Dropout(.25))\n",
    "model.add(Bidirectional(LSTM(100, return_sequences = True)))\n",
    "model.add(Dropout(.5))\n",
    "model.add(Flatten())\n",
    "model.add(Dense(100, activation = 'relu'))\n",
    "model.add(Dropout(.25))\n",
    "model.add(Dense(vocab_size, activation = 'softmax'))\n",
    "model.compile(loss = 'categorical_crossentropy', optimizer = 'adam', metrics=['accuracy'])\n",
    "model.summary()"
   ]
  },
  {
   "cell_type": "code",
   "execution_count": 68,
   "metadata": {
    "scrolled": true
   },
   "outputs": [
    {
     "name": "stderr",
     "output_type": "stream",
     "text": [
      "C:\\Users\\gabe5\\Anaconda3\\lib\\site-packages\\tensorflow_core\\python\\framework\\indexed_slices.py:433: UserWarning: Converting sparse IndexedSlices to a dense Tensor of unknown shape. This may consume a large amount of memory.\n",
      "  \"Converting sparse IndexedSlices to a dense Tensor of unknown shape. \"\n"
     ]
    },
    {
     "name": "stdout",
     "output_type": "stream",
     "text": [
      "Epoch 1/100\n",
      "123894/123894 [==============================] - 451s 4ms/step - loss: 6.9091 - accuracy: 0.0467\n",
      "Epoch 2/100\n"
     ]
    },
    {
     "name": "stderr",
     "output_type": "stream",
     "text": [
      "C:\\Users\\gabe5\\Anaconda3\\lib\\site-packages\\keras\\callbacks\\callbacks.py:707: RuntimeWarning: Can save best model only with val_loss available, skipping.\n",
      "  'skipping.' % (self.monitor), RuntimeWarning)\n",
      "C:\\Users\\gabe5\\Anaconda3\\lib\\site-packages\\keras\\callbacks\\callbacks.py:846: RuntimeWarning: Early stopping conditioned on metric `val_loss` which is not available. Available metrics are: loss,accuracy\n",
      "  (self.monitor, ','.join(list(logs.keys()))), RuntimeWarning\n"
     ]
    },
    {
     "name": "stdout",
     "output_type": "stream",
     "text": [
      "123894/123894 [==============================] - 473s 4ms/step - loss: 6.5643 - accuracy: 0.0698\n",
      "Epoch 3/100\n",
      "123894/123894 [==============================] - 486s 4ms/step - loss: 6.2763 - accuracy: 0.0905\n",
      "Epoch 4/100\n",
      "123894/123894 [==============================] - 482s 4ms/step - loss: 6.0066 - accuracy: 0.1040\n",
      "Epoch 5/100\n",
      "123894/123894 [==============================] - 483s 4ms/step - loss: 5.7667 - accuracy: 0.1151\n",
      "Epoch 6/100\n",
      "123894/123894 [==============================] - 484s 4ms/step - loss: 5.5450 - accuracy: 0.1263\n",
      "Epoch 7/100\n",
      "123894/123894 [==============================] - 481s 4ms/step - loss: 5.3382 - accuracy: 0.1358\n",
      "Epoch 8/100\n",
      "123894/123894 [==============================] - 485s 4ms/step - loss: 5.1376 - accuracy: 0.1451\n",
      "Epoch 9/100\n",
      "123894/123894 [==============================] - 480s 4ms/step - loss: 4.9512 - accuracy: 0.1537\n",
      "Epoch 10/100\n",
      "123894/123894 [==============================] - 482s 4ms/step - loss: 4.7723 - accuracy: 0.1603\n",
      "Epoch 11/100\n",
      "123894/123894 [==============================] - 488s 4ms/step - loss: 4.6073 - accuracy: 0.1688\n",
      "Epoch 12/100\n",
      "123894/123894 [==============================] - 484s 4ms/step - loss: 4.4416 - accuracy: 0.1785\n",
      "Epoch 13/100\n",
      "123894/123894 [==============================] - 485s 4ms/step - loss: 4.2907 - accuracy: 0.1888\n",
      "Epoch 14/100\n",
      "123894/123894 [==============================] - 485s 4ms/step - loss: 4.1503 - accuracy: 0.1997\n",
      "Epoch 15/100\n",
      "123894/123894 [==============================] - 481s 4ms/step - loss: 4.0316 - accuracy: 0.2122\n",
      "Epoch 16/100\n",
      "123894/123894 [==============================] - 486s 4ms/step - loss: 3.9144 - accuracy: 0.2250\n",
      "Epoch 17/100\n",
      "123894/123894 [==============================] - 484s 4ms/step - loss: 3.8058 - accuracy: 0.2370\n",
      "Epoch 18/100\n",
      "123894/123894 [==============================] - 489s 4ms/step - loss: 3.7111 - accuracy: 0.2477\n",
      "Epoch 19/100\n",
      "123894/123894 [==============================] - 484s 4ms/step - loss: 3.6301 - accuracy: 0.2572\n",
      "Epoch 20/100\n",
      "123894/123894 [==============================] - 492s 4ms/step - loss: 3.5547 - accuracy: 0.2670\n",
      "Epoch 21/100\n",
      "123894/123894 [==============================] - 485s 4ms/step - loss: 3.4918 - accuracy: 0.2766\n",
      "Epoch 22/100\n",
      "123894/123894 [==============================] - 485s 4ms/step - loss: 3.4246 - accuracy: 0.2830\n",
      "Epoch 23/100\n",
      "123894/123894 [==============================] - 488s 4ms/step - loss: 3.3702 - accuracy: 0.2906\n",
      "Epoch 24/100\n",
      "123894/123894 [==============================] - 483s 4ms/step - loss: 3.3175 - accuracy: 0.2959\n",
      "Epoch 25/100\n",
      "123894/123894 [==============================] - 490s 4ms/step - loss: 3.2636 - accuracy: 0.3042\n",
      "Epoch 26/100\n",
      "123894/123894 [==============================] - 482s 4ms/step - loss: 3.2175 - accuracy: 0.3094\n",
      "Epoch 27/100\n",
      "123894/123894 [==============================] - 491s 4ms/step - loss: 3.1720 - accuracy: 0.3135\n",
      "Epoch 28/100\n",
      "123894/123894 [==============================] - 495s 4ms/step - loss: 3.1277 - accuracy: 0.3208\n",
      "Epoch 29/100\n",
      "123894/123894 [==============================] - 488s 4ms/step - loss: 3.0889 - accuracy: 0.3253\n",
      "Epoch 30/100\n",
      "123894/123894 [==============================] - 482s 4ms/step - loss: 3.0533 - accuracy: 0.3318\n",
      "Epoch 31/100\n",
      "123894/123894 [==============================] - 489s 4ms/step - loss: 3.0138 - accuracy: 0.3371\n",
      "Epoch 32/100\n",
      "123894/123894 [==============================] - 485s 4ms/step - loss: 2.9735 - accuracy: 0.3423\n",
      "Epoch 33/100\n",
      "123894/123894 [==============================] - 487s 4ms/step - loss: 2.9388 - accuracy: 0.3457\n",
      "Epoch 34/100\n",
      "123894/123894 [==============================] - 488s 4ms/step - loss: 2.9091 - accuracy: 0.3510\n",
      "Epoch 35/100\n",
      "123894/123894 [==============================] - 490s 4ms/step - loss: 2.8735 - accuracy: 0.3572\n",
      "Epoch 36/100\n",
      "123894/123894 [==============================] - 486s 4ms/step - loss: 2.8452 - accuracy: 0.3606\n",
      "Epoch 37/100\n",
      "123894/123894 [==============================] - 490s 4ms/step - loss: 2.8130 - accuracy: 0.3648\n",
      "Epoch 38/100\n",
      "123894/123894 [==============================] - 487s 4ms/step - loss: 2.7827 - accuracy: 0.3708\n",
      "Epoch 39/100\n",
      "123894/123894 [==============================] - 487s 4ms/step - loss: 2.7588 - accuracy: 0.3726\n",
      "Epoch 40/100\n",
      "123894/123894 [==============================] - 491s 4ms/step - loss: 2.7310 - accuracy: 0.3779\n",
      "Epoch 41/100\n",
      "123894/123894 [==============================] - 486s 4ms/step - loss: 2.6994 - accuracy: 0.3841\n",
      "Epoch 42/100\n",
      "123894/123894 [==============================] - 491s 4ms/step - loss: 2.6820 - accuracy: 0.3844\n",
      "Epoch 43/100\n",
      "123894/123894 [==============================] - 490s 4ms/step - loss: 2.6550 - accuracy: 0.3896\n",
      "Epoch 44/100\n",
      "123894/123894 [==============================] - 488s 4ms/step - loss: 2.6312 - accuracy: 0.3914\n",
      "Epoch 45/100\n",
      "123894/123894 [==============================] - 488s 4ms/step - loss: 2.6034 - accuracy: 0.3969\n",
      "Epoch 46/100\n",
      "123894/123894 [==============================] - 485s 4ms/step - loss: 2.5822 - accuracy: 0.4008\n",
      "Epoch 47/100\n",
      "123894/123894 [==============================] - 484s 4ms/step - loss: 2.5529 - accuracy: 0.4046\n",
      "Epoch 48/100\n",
      "123894/123894 [==============================] - 489s 4ms/step - loss: 2.5365 - accuracy: 0.4078\n",
      "Epoch 49/100\n",
      "123894/123894 [==============================] - 490s 4ms/step - loss: 2.5113 - accuracy: 0.4117\n",
      "Epoch 50/100\n",
      "123894/123894 [==============================] - 491s 4ms/step - loss: 2.4952 - accuracy: 0.4158\n",
      "Epoch 51/100\n",
      "123894/123894 [==============================] - 486s 4ms/step - loss: 2.4743 - accuracy: 0.4185\n",
      "Epoch 52/100\n",
      "123894/123894 [==============================] - 488s 4ms/step - loss: 2.4498 - accuracy: 0.4201\n",
      "Epoch 53/100\n",
      "123894/123894 [==============================] - 487s 4ms/step - loss: 2.4314 - accuracy: 0.4252\n",
      "Epoch 54/100\n",
      "123894/123894 [==============================] - 495s 4ms/step - loss: 2.4116 - accuracy: 0.4275\n",
      "Epoch 55/100\n",
      "123894/123894 [==============================] - 488s 4ms/step - loss: 2.3885 - accuracy: 0.4339\n",
      "Epoch 56/100\n",
      "123894/123894 [==============================] - 490s 4ms/step - loss: 2.3733 - accuracy: 0.4349\n",
      "Epoch 57/100\n",
      "123894/123894 [==============================] - 489s 4ms/step - loss: 2.3590 - accuracy: 0.4368\n",
      "Epoch 58/100\n",
      "123894/123894 [==============================] - 486s 4ms/step - loss: 2.3400 - accuracy: 0.4407\n",
      "Epoch 59/100\n",
      "123894/123894 [==============================] - 484s 4ms/step - loss: 2.3216 - accuracy: 0.4442\n",
      "Epoch 60/100\n",
      "123894/123894 [==============================] - 489s 4ms/step - loss: 2.2970 - accuracy: 0.4495\n",
      "Epoch 61/100\n",
      "123894/123894 [==============================] - 484s 4ms/step - loss: 2.2842 - accuracy: 0.4510\n",
      "Epoch 62/100\n",
      "123894/123894 [==============================] - 490s 4ms/step - loss: 2.2700 - accuracy: 0.4529\n",
      "Epoch 63/100\n",
      "123894/123894 [==============================] - 492s 4ms/step - loss: 2.2524 - accuracy: 0.4586\n",
      "Epoch 64/100\n",
      "123894/123894 [==============================] - 483s 4ms/step - loss: 2.2370 - accuracy: 0.4587\n",
      "Epoch 65/100\n",
      "123894/123894 [==============================] - 492s 4ms/step - loss: 2.2222 - accuracy: 0.4620\n",
      "Epoch 66/100\n",
      "123894/123894 [==============================] - 487s 4ms/step - loss: 2.2068 - accuracy: 0.4664\n",
      "Epoch 67/100\n",
      "123894/123894 [==============================] - 494s 4ms/step - loss: 2.1958 - accuracy: 0.4663\n",
      "Epoch 68/100\n",
      "123894/123894 [==============================] - 502s 4ms/step - loss: 2.1758 - accuracy: 0.4703\n",
      "Epoch 69/100\n",
      "123894/123894 [==============================] - 485s 4ms/step - loss: 2.1609 - accuracy: 0.4718\n",
      "Epoch 70/100\n",
      "123894/123894 [==============================] - 491s 4ms/step - loss: 2.1403 - accuracy: 0.4751\n",
      "Epoch 71/100\n",
      "123894/123894 [==============================] - 492s 4ms/step - loss: 2.1279 - accuracy: 0.4780\n",
      "Epoch 72/100\n",
      "123894/123894 [==============================] - 497s 4ms/step - loss: 2.1154 - accuracy: 0.4802\n",
      "Epoch 73/100\n",
      "123894/123894 [==============================] - 498s 4ms/step - loss: 2.0994 - accuracy: 0.4834\n",
      "Epoch 74/100\n",
      "123894/123894 [==============================] - 490s 4ms/step - loss: 2.0874 - accuracy: 0.4860\n",
      "Epoch 75/100\n",
      "123894/123894 [==============================] - 492s 4ms/step - loss: 2.0733 - accuracy: 0.4876\n",
      "Epoch 76/100\n"
     ]
    },
    {
     "name": "stdout",
     "output_type": "stream",
     "text": [
      "123894/123894 [==============================] - 504s 4ms/step - loss: 2.0584 - accuracy: 0.4916\n",
      "Epoch 77/100\n",
      "123894/123894 [==============================] - 495s 4ms/step - loss: 2.0549 - accuracy: 0.4914\n",
      "Epoch 78/100\n",
      "123894/123894 [==============================] - 491s 4ms/step - loss: 2.0386 - accuracy: 0.4940\n",
      "Epoch 79/100\n",
      "123894/123894 [==============================] - 493s 4ms/step - loss: 2.0208 - accuracy: 0.5000\n",
      "Epoch 80/100\n",
      "123894/123894 [==============================] - 489s 4ms/step - loss: 2.0046 - accuracy: 0.5014\n",
      "Epoch 81/100\n",
      "123894/123894 [==============================] - 486s 4ms/step - loss: 1.9919 - accuracy: 0.5045\n",
      "Epoch 82/100\n",
      "123894/123894 [==============================] - 492s 4ms/step - loss: 1.9846 - accuracy: 0.5056\n",
      "Epoch 83/100\n",
      "123894/123894 [==============================] - 488s 4ms/step - loss: 1.9752 - accuracy: 0.5056\n",
      "Epoch 84/100\n",
      "123894/123894 [==============================] - 493s 4ms/step - loss: 1.9645 - accuracy: 0.5091\n",
      "Epoch 85/100\n",
      "123894/123894 [==============================] - 492s 4ms/step - loss: 1.9543 - accuracy: 0.5106\n",
      "Epoch 86/100\n",
      "123894/123894 [==============================] - 503s 4ms/step - loss: 1.9425 - accuracy: 0.5131\n",
      "Epoch 87/100\n",
      "123894/123894 [==============================] - 508s 4ms/step - loss: 1.9275 - accuracy: 0.5153\n",
      "Epoch 88/100\n",
      "123894/123894 [==============================] - 523s 4ms/step - loss: 1.9260 - accuracy: 0.5156\n",
      "Epoch 89/100\n",
      "123894/123894 [==============================] - 505s 4ms/step - loss: 1.9044 - accuracy: 0.5206\n",
      "Epoch 90/100\n",
      "123894/123894 [==============================] - 502s 4ms/step - loss: 1.8972 - accuracy: 0.5216\n",
      "Epoch 91/100\n",
      "123894/123894 [==============================] - 504s 4ms/step - loss: 1.8830 - accuracy: 0.5249\n",
      "Epoch 92/100\n",
      "123894/123894 [==============================] - 507s 4ms/step - loss: 1.8827 - accuracy: 0.5259\n",
      "Epoch 93/100\n",
      "123894/123894 [==============================] - 503s 4ms/step - loss: 1.8672 - accuracy: 0.5281\n",
      "Epoch 94/100\n",
      "123894/123894 [==============================] - 508s 4ms/step - loss: 1.8593 - accuracy: 0.5289\n",
      "Epoch 95/100\n",
      "123894/123894 [==============================] - 501s 4ms/step - loss: 1.8458 - accuracy: 0.5316\n",
      "Epoch 96/100\n",
      "123894/123894 [==============================] - 505s 4ms/step - loss: 1.8294 - accuracy: 0.5355\n",
      "Epoch 97/100\n",
      "123894/123894 [==============================] - 505s 4ms/step - loss: 1.8191 - accuracy: 0.5369\n",
      "Epoch 98/100\n",
      "123894/123894 [==============================] - 503s 4ms/step - loss: 1.8188 - accuracy: 0.5371\n",
      "Epoch 99/100\n",
      "123894/123894 [==============================] - 503s 4ms/step - loss: 1.8039 - accuracy: 0.5413\n",
      "Epoch 100/100\n",
      "123894/123894 [==============================] - 507s 4ms/step - loss: 1.7917 - accuracy: 0.5425\n"
     ]
    }
   ],
   "source": [
    "batches = 128\n",
    "epochs = 100\n",
    "checkpoint = ModelCheckpoint(filepath = r'E:\\Documents\\My Projects\\Text Generation\\Models\\BiLSTM_Language_Generation.hdf5',\n",
    "                            verbose = 1, save_best_only=True)\n",
    "stopping = EarlyStopping(monitor='loss',patience=5)\n",
    "\n",
    "callbacks = [checkpoint,stopping]\n",
    "history = model.fit(x, y, batch_size=batches, epochs = epochs, callbacks = callbacks, validation_split=.1)"
   ]
  },
  {
   "cell_type": "code",
   "execution_count": 72,
   "metadata": {},
   "outputs": [
    {
     "data": {
      "image/png": "[encoded data removed]",
      "text/plain": [
       "<Figure size 720x432 with 1 Axes>"
      ]
     },
     "metadata": {
      "needs_background": "light"
     },
     "output_type": "display_data"
    },
    {
     "data": {
      "image/png": "[encoded data removed]",
      "text/plain": [
       "<Figure size 720x432 with 1 Axes>"
      ]
     },
     "metadata": {
      "needs_background": "light"
     },
     "output_type": "display_data"
    }
   ],
   "source": [
    "# plot the loss function #342b38\n",
    "fig, ax = plt.subplots(1,1,figsize = (10,6))\n",
    "ax.plot(history.history['loss'],color = '#ff9595',label = 'Train')\n",
    "#ax.plot(history.history['val_loss'],color = '#342b38',label = 'val')\n",
    "ax.set_xlabel('Epoch',fontsize=20)\n",
    "ax.set_ylabel('Loss',fontsize=20)\n",
    "ax.set_title('Loss Function',fontsize = 15)\n",
    "ax.legend()\n",
    "ax.tick_params(labelsize=20)\n",
    "\n",
    "# plot the accuracy\n",
    "fig, ax = plt.subplots(1,1,figsize = (10,6))\n",
    "ax.plot(history.history['accuracy'],color = '#ff9595',label = 'Train')\n",
    "#ax.plot(history.history['val_accuracy'],color = '#342b38',label = 'val')\n",
    "ax.set_xlabel('Epoch',fontsize=20)\n",
    "ax.set_ylabel('Loss',fontsize=20)\n",
    "ax.set_title('Accuracy',fontsize = 15)\n",
    "ax.legend()\n",
    "ax.tick_params(labelsize=20)"
   ]
  },
  {
   "cell_type": "code",
   "execution_count": null,
   "metadata": {},
   "outputs": [],
   "source": [
    "# this function will convert all o the digits into words"
   ]
  },
  {
   "cell_type": "code",
   "execution_count": 75,
   "metadata": {},
   "outputs": [],
   "source": [
    "model.save( r'E:\\Documents\\My Projects\\Text Generation\\Models\\BiLSTM_Language_Generation.hdf5')\n",
    "# save the tokenizer\n",
    "filename =  r'E:\\Documents\\My Projects\\Text Generation\\Models\\encoder.pkl'\n",
    "with open(filename, 'wb') as file:\n",
    "    pk.dump(encoder,file)"
   ]
  },
  {
   "cell_type": "markdown",
   "metadata": {},
   "source": [
    "# Evaluation and Testing\n",
    "Now that we have a trained language model, we can use it.\n",
    "In this case, we can use it to generate new sequences of text that have the same statistical properties as the source text.\n",
    "\n",
    "We need the text so that we can choose a source sequence as input to the model for generating a new sequence of text.\n",
    "\n",
    "The model will require 50 words as input.\n",
    "\n",
    "Later, we will need to specify the expected length of input. We can determine this from the input sequences by calculating the length of one line of the loaded data and subtracting 1 for the expected output word that is also on the same line."
   ]
  },
  {
   "cell_type": "code",
   "execution_count": 73,
   "metadata": {},
   "outputs": [
    {
     "name": "stdout",
     "output_type": "stream",
     "text": [
      "Training Accuracy: 0.819789469242096\n"
     ]
    }
   ],
   "source": [
    "score = model.evaluate(x,y,verbose=0)\n",
    "print(f\"Training Accuracy: {score[1]}\")"
   ]
  },
  {
   "cell_type": "code",
   "execution_count": 87,
   "metadata": {},
   "outputs": [],
   "source": [
    "def load_sequences(path, binary = True):\n",
    "    ''' function that is used to load the text sequences from either\n",
    "        a binary pickle file or a text file. returns a list of sequences \n",
    "        and the expected sequence length'''\n",
    "    if binary:\n",
    "        with open(path,'rb') as file:\n",
    "            seqs = pk.load(file)\n",
    "            print(f'Sequences loaded from: {path}')\n",
    "    else:\n",
    "        with open(path,'r') as file:\n",
    "            doc = file.read()\n",
    "            seqs = doc.split('\\n')\n",
    "            \n",
    "      \n",
    "    seq_length = len(seqs[0].split()) - 1\n",
    "    return seqs, seq_length\n",
    "\n",
    "\n",
    "def load_encoder(path):\n",
    "    with open(path,'rb') as file:\n",
    "        encoder = pk.load(file)\n",
    "        print(f'Sequences loaded from: {path}')\n",
    "    \n",
    "    return encoder\n",
    "\n",
    "\n",
    "def load_network(path):\n",
    "    model = load_model(path)\n",
    "    return model\n",
    "\n",
    "def generate_seed(sequences):\n",
    "    section = randint(0,len(sequences))\n",
    "    seed_text = sequences[section]\n",
    "    print(f'Generated from section: {section}')\n",
    "    return seed_text\n",
    "    "
   ]
  },
  {
   "cell_type": "code",
   "execution_count": 147,
   "metadata": {},
   "outputs": [],
   "source": [
    "class Predictor:\n",
    "    ''' class to load models, encoders, and other methods that help in making predictions '''\n",
    "    def __init__(self):\n",
    "        self.encoder = None\n",
    "        self.model = None\n",
    "        self.sequences = None\n",
    "        self.seq_length = None\n",
    "        self.seed_text = None\n",
    "        self.encoded_seed = None\n",
    "    \n",
    "    def load_sequences(self,path, binary = True):\n",
    "        ''' function that is used to load the text sequences from either\n",
    "        a binary pickle file or a text file. returns a list of sequences \n",
    "        and the expected sequence length'''\n",
    "    \n",
    "        # checks if the file is serialized or not\n",
    "        if binary:\n",
    "            with open(path,'rb') as file:\n",
    "                # loads the sequences \n",
    "                self.sequences = pk.load(file)\n",
    "                print(f'Sequences loaded from: {path}')\n",
    "                \n",
    "        # loads the file from an unserialized format\n",
    "        else:\n",
    "            with open(path,'r') as file:\n",
    "                doc = file.read()\n",
    "                self.sequences = doc.split('\\n')\n",
    "\n",
    "        # seq_len is a vector of size 50\n",
    "        self.seq_length = len(self.sequences[0].split()) - 1\n",
    "        return self.sequences, self.seq_length\n",
    "    \n",
    "    def load_encoder(self,path):\n",
    "        with open(path,'rb') as file:\n",
    "            self.encoder = pk.load(file)\n",
    "            print(f'Sequences loaded from: {path}')\n",
    "\n",
    "        return self.encoder\n",
    "    \n",
    "    def load_network(self,path):\n",
    "        self.model = load_model(path)\n",
    "        return model\n",
    "    \n",
    "    def generate_seed(self,sequences = None):\n",
    "        self.sequences = self.sequences if sequences is None else sequences\n",
    "        section = randint(0,len(self.sequences))\n",
    "        self.seed_text = self.sequences[section]\n",
    "        print(f'Generated from section: {section}')\n",
    "        return self.seed_text\n",
    "    \n",
    "    def pad_input_sequence(self,seed = None):\n",
    "        # the seed text must be encoded to integers using \n",
    "        # the same tokenizer that we used when training the model.\n",
    "        if self.encoder is None:\n",
    "            raise TypeError(f'Encoder can not be of type: {self.encoder}')\n",
    "        \n",
    "        # load the input sequnce \n",
    "        seed = self.seed_text if seed is None else seed\n",
    "        self.encoded_seed = self.encoder.texts_to_sequences([seed])[0]\n",
    "        # Truncate the sequence to a fixed length \n",
    "        self.encoded_seed = pad_sequences([encoded_seed], maxlen = seq_length, truncating='pre')\n",
    "        return self.encoded_seed\n",
    "    \n",
    "    def generate_sequence(self, model = None, seed = None, seq_len = None, output_len = 100):\n",
    "        \n",
    "        # all of the input values are set to none by default so the first step is to hanlde this\n",
    "        model = self.model if model is None else model\n",
    "        seq_len = self.seq_length if seq_len is None else seq_len\n",
    "        \n",
    "        \n",
    "        # the list that the output sequence will be loaded into\n",
    "        result = list()\n",
    "        input_text = self.generate_seed() if seed is None else seed\n",
    "        \n",
    "        # generate a fixed number of words\n",
    "        for _ in range(output_len):\n",
    "            # encode the text as integer\n",
    "            encoded = self.pad_input_sequence(input_text)\n",
    "            \n",
    "            # predict probabilities for each word\n",
    "            pred = self.model.predict_classes(encoded, verbose = 0)\n",
    "            \n",
    "            # map predicted word index to word\n",
    "            predicted_word = ''\n",
    "            for word, index in self.encoder.word_index.items():\n",
    "                # check to see if the current index is the index of the predicted word\n",
    "                if index == pred:\n",
    "                    predicted_word = word\n",
    "                    break\n",
    "                    \n",
    "            # append to the input text (this is so that our next predicted word is based on the word we just predicted) +=\n",
    "            in_text += ' ' + predicted_word\n",
    "            result.append(predicted_word) # this list will be our newly generated sequence\n",
    "        \n",
    "        return ' '.join(result)      "
   ]
  },
  {
   "cell_type": "markdown",
   "metadata": {},
   "source": [
    "# Generating Text\n",
    "The first step in generating text is preparing a seed input.\n",
    "We will select a random line of text from the input text for this purpose. Once selected, we will print it so that we have some idea of what was used."
   ]
  },
  {
   "cell_type": "code",
   "execution_count": 117,
   "metadata": {},
   "outputs": [
    {
     "name": "stdout",
     "output_type": "stream",
     "text": [
      "Sequences loaded from: E:\\Documents\\My Projects\\Text Generation\\data\\HEAM.seq\n",
      "Sequences loaded from: E:\\Documents\\My Projects\\Text Generation\\Models\\encoder.pkl\n"
     ]
    },
    {
     "name": "stderr",
     "output_type": "stream",
     "text": [
      "C:\\Users\\gabe5\\Anaconda3\\lib\\site-packages\\tensorflow_core\\python\\framework\\indexed_slices.py:433: UserWarning: Converting sparse IndexedSlices to a dense Tensor of unknown shape. This may consume a large amount of memory.\n",
      "  \"Converting sparse IndexedSlices to a dense Tensor of unknown shape. \"\n"
     ]
    },
    {
     "data": {
      "text/plain": [
       "50"
      ]
     },
     "execution_count": 117,
     "metadata": {},
     "output_type": "execute_result"
    }
   ],
   "source": [
    "seq_path = r'E:\\Documents\\My Projects\\Text Generation\\data\\HEAM.seq'\n",
    "encoder_path = r'E:\\Documents\\My Projects\\Text Generation\\Models\\encoder.pkl'\n",
    "model_path = r'E:\\Documents\\My Projects\\Text Generation\\Models\\BiLSTM_Language_Generation.hdf5'\n",
    "# load the sequences\n",
    "sequences, seq_length = load_sequences(seq_path)\n",
    "# load the encoder\n",
    "encoder = load_encoder(encoder_path)\n",
    "# load the model\n",
    "model = load_network(model_path)\n"
   ]
  },
  {
   "cell_type": "code",
   "execution_count": 92,
   "metadata": {},
   "outputs": [
    {
     "name": "stdout",
     "output_type": "stream",
     "text": [
      "Generated from section: 24134\n"
     ]
    },
    {
     "data": {
      "text/plain": [
       "'image of a round red object in your eye you see this image because neurons in your visual cortex have changed their firing patterns to simulate an apple if you were in the fruit section of a supermarket right now these same firing neurons would be a visual prediction your past'"
      ]
     },
     "execution_count": 92,
     "metadata": {},
     "output_type": "execute_result"
    }
   ],
   "source": [
    "# generate seed\n",
    "seed = generate_seed(sequences)\n",
    "seed"
   ]
  },
  {
   "cell_type": "code",
   "execution_count": 104,
   "metadata": {},
   "outputs": [
    {
     "name": "stdout",
     "output_type": "stream",
     "text": [
      "[[   2    4 6376  439  522    6    8  731   10   90   19  918   79  111\n",
      "     6    8  269  262   28  912   37  492  392    5  710   24  661   36\n",
      "    10   70    6    1 2147 3521    2    4 2943  241  131   42   71  492\n",
      "   111   88   34    4  269  101    8  198]]\n"
     ]
    }
   ],
   "source": [
    "# the seed text must be encoded to integers using \n",
    "# the same tokenizer that we used when training the model.\n",
    "encoded_seed = encoder.texts_to_sequences([seed])[0]\n",
    "# pad the encoded sequence\n",
    "encoded_seed = pad_sequences([encoded_seed], maxlen = seq_length, truncating='pre')\n",
    "print(encoded_seed)"
   ]
  },
  {
   "cell_type": "code",
   "execution_count": 106,
   "metadata": {},
   "outputs": [
    {
     "name": "stdout",
     "output_type": "stream",
     "text": [
      "\r",
      "1/1 [==============================] - 0s 30ms/step\n"
     ]
    },
    {
     "data": {
      "text/plain": [
       "array([49], dtype=int64)"
      ]
     },
     "execution_count": 106,
     "metadata": {},
     "output_type": "execute_result"
    }
   ],
   "source": [
    "# The model can predict the next word directly by calling \n",
    "# model.predict_classes() that will return the index of \n",
    "# the word with the highest probability.\n",
    "pred = model.predict_classes(encoded_seed, verbose = 1)\n",
    "pred"
   ]
  },
  {
   "cell_type": "code",
   "execution_count": null,
   "metadata": {},
   "outputs": [],
   "source": []
  },
  {
   "cell_type": "code",
   "execution_count": null,
   "metadata": {},
   "outputs": [],
   "source": []
  },
  {
   "cell_type": "code",
   "execution_count": 148,
   "metadata": {},
   "outputs": [
    {
     "name": "stderr",
     "output_type": "stream",
     "text": [
      "C:\\Users\\gabe5\\Anaconda3\\lib\\site-packages\\tensorflow_core\\python\\framework\\indexed_slices.py:433: UserWarning: Converting sparse IndexedSlices to a dense Tensor of unknown shape. This may consume a large amount of memory.\n",
      "  \"Converting sparse IndexedSlices to a dense Tensor of unknown shape. \"\n"
     ]
    },
    {
     "name": "stdout",
     "output_type": "stream",
     "text": [
      "Sequences loaded from: E:\\Documents\\My Projects\\Text Generation\\Models\\encoder.pkl\n",
      "Sequences loaded from: E:\\Documents\\My Projects\\Text Generation\\data\\HEAM.seq\n"
     ]
    },
    {
     "name": "stderr",
     "output_type": "stream",
     "text": [
      "IOPub data rate exceeded.\n",
      "The notebook server will temporarily stop sending output\n",
      "to the client in order to avoid crashing it.\n",
      "To change this limit, set the config variable\n",
      "`--NotebookApp.iopub_data_rate_limit`.\n",
      "\n",
      "Current values:\n",
      "NotebookApp.iopub_data_rate_limit=1000000.0 (bytes/sec)\n",
      "NotebookApp.rate_limit_window=3.0 (secs)\n",
      "\n"
     ]
    }
   ],
   "source": [
    "# instantiate a predictor class\n",
    "p = Predictor()\n",
    "p.load_network(model_path)\n",
    "p.load_encoder(encoder_path)\n",
    "seq = p.load_sequences(seq_path)\n",
    "print(seq)\n",
    "seed = p.generate_seed(sequences=seq)"
   ]
  },
  {
   "cell_type": "code",
   "execution_count": 149,
   "metadata": {},
   "outputs": [
    {
     "ename": "AttributeError",
     "evalue": "'int' object has no attribute 'lower'",
     "output_type": "error",
     "traceback": [
      "\u001b[1;31m---------------------------------------------------------------------------\u001b[0m",
      "\u001b[1;31mAttributeError\u001b[0m                            Traceback (most recent call last)",
      "\u001b[1;32m<ipython-input-149-bd9b4168dbc6>\u001b[0m in \u001b[0;36m<module>\u001b[1;34m\u001b[0m\n\u001b[1;32m----> 1\u001b[1;33m \u001b[0mgenerated\u001b[0m \u001b[1;33m=\u001b[0m \u001b[0mp\u001b[0m\u001b[1;33m.\u001b[0m\u001b[0mgenerate_sequence\u001b[0m\u001b[1;33m(\u001b[0m\u001b[0mseed\u001b[0m\u001b[1;33m=\u001b[0m\u001b[0mseed\u001b[0m\u001b[1;33m)\u001b[0m\u001b[1;33m\u001b[0m\u001b[1;33m\u001b[0m\u001b[0m\n\u001b[0m",
      "\u001b[1;32m<ipython-input-147-9b0e956f9846>\u001b[0m in \u001b[0;36mgenerate_sequence\u001b[1;34m(self, model, seed, seq_len, output_len)\u001b[0m\n\u001b[0;32m     76\u001b[0m         \u001b[1;32mfor\u001b[0m \u001b[0m_\u001b[0m \u001b[1;32min\u001b[0m \u001b[0mrange\u001b[0m\u001b[1;33m(\u001b[0m\u001b[0moutput_len\u001b[0m\u001b[1;33m)\u001b[0m\u001b[1;33m:\u001b[0m\u001b[1;33m\u001b[0m\u001b[1;33m\u001b[0m\u001b[0m\n\u001b[0;32m     77\u001b[0m             \u001b[1;31m# encode the text as integer\u001b[0m\u001b[1;33m\u001b[0m\u001b[1;33m\u001b[0m\u001b[1;33m\u001b[0m\u001b[0m\n\u001b[1;32m---> 78\u001b[1;33m             \u001b[0mencoded\u001b[0m \u001b[1;33m=\u001b[0m \u001b[0mself\u001b[0m\u001b[1;33m.\u001b[0m\u001b[0mpad_input_sequence\u001b[0m\u001b[1;33m(\u001b[0m\u001b[0minput_text\u001b[0m\u001b[1;33m)\u001b[0m\u001b[1;33m\u001b[0m\u001b[1;33m\u001b[0m\u001b[0m\n\u001b[0m\u001b[0;32m     79\u001b[0m             \u001b[0mprint\u001b[0m\u001b[1;33m(\u001b[0m\u001b[0mencoded\u001b[0m\u001b[1;33m.\u001b[0m\u001b[0mshape\u001b[0m\u001b[1;33m)\u001b[0m\u001b[1;33m\u001b[0m\u001b[1;33m\u001b[0m\u001b[0m\n\u001b[0;32m     80\u001b[0m             \u001b[1;31m# predict probabilities for each word\u001b[0m\u001b[1;33m\u001b[0m\u001b[1;33m\u001b[0m\u001b[1;33m\u001b[0m\u001b[0m\n",
      "\u001b[1;32m<ipython-input-147-9b0e956f9846>\u001b[0m in \u001b[0;36mpad_input_sequence\u001b[1;34m(self, seed)\u001b[0m\n\u001b[0;32m     57\u001b[0m         \u001b[1;31m# load the input sequnce\u001b[0m\u001b[1;33m\u001b[0m\u001b[1;33m\u001b[0m\u001b[1;33m\u001b[0m\u001b[0m\n\u001b[0;32m     58\u001b[0m         \u001b[0mseed\u001b[0m \u001b[1;33m=\u001b[0m \u001b[0mself\u001b[0m\u001b[1;33m.\u001b[0m\u001b[0mseed_text\u001b[0m \u001b[1;32mif\u001b[0m \u001b[0mseed\u001b[0m \u001b[1;32mis\u001b[0m \u001b[1;32mNone\u001b[0m \u001b[1;32melse\u001b[0m \u001b[0mseed\u001b[0m\u001b[1;33m\u001b[0m\u001b[1;33m\u001b[0m\u001b[0m\n\u001b[1;32m---> 59\u001b[1;33m         \u001b[0mself\u001b[0m\u001b[1;33m.\u001b[0m\u001b[0mencoded_seed\u001b[0m \u001b[1;33m=\u001b[0m \u001b[0mself\u001b[0m\u001b[1;33m.\u001b[0m\u001b[0mencoder\u001b[0m\u001b[1;33m.\u001b[0m\u001b[0mtexts_to_sequences\u001b[0m\u001b[1;33m(\u001b[0m\u001b[1;33m[\u001b[0m\u001b[0mseed\u001b[0m\u001b[1;33m]\u001b[0m\u001b[1;33m)\u001b[0m\u001b[1;33m[\u001b[0m\u001b[1;36m0\u001b[0m\u001b[1;33m]\u001b[0m\u001b[1;33m\u001b[0m\u001b[1;33m\u001b[0m\u001b[0m\n\u001b[0m\u001b[0;32m     60\u001b[0m         \u001b[1;31m# Truncate the sequence to a fixed length\u001b[0m\u001b[1;33m\u001b[0m\u001b[1;33m\u001b[0m\u001b[1;33m\u001b[0m\u001b[0m\n\u001b[0;32m     61\u001b[0m         \u001b[0mself\u001b[0m\u001b[1;33m.\u001b[0m\u001b[0mencoded_seed\u001b[0m \u001b[1;33m=\u001b[0m \u001b[0mpad_sequences\u001b[0m\u001b[1;33m(\u001b[0m\u001b[1;33m[\u001b[0m\u001b[0mencoded_seed\u001b[0m\u001b[1;33m]\u001b[0m\u001b[1;33m,\u001b[0m \u001b[0mmaxlen\u001b[0m \u001b[1;33m=\u001b[0m \u001b[0mseq_length\u001b[0m\u001b[1;33m,\u001b[0m \u001b[0mtruncating\u001b[0m\u001b[1;33m=\u001b[0m\u001b[1;34m'pre'\u001b[0m\u001b[1;33m)\u001b[0m\u001b[1;33m\u001b[0m\u001b[1;33m\u001b[0m\u001b[0m\n",
      "\u001b[1;32m~\\Anaconda3\\lib\\site-packages\\keras_preprocessing\\text.py\u001b[0m in \u001b[0;36mtexts_to_sequences\u001b[1;34m(self, texts)\u001b[0m\n\u001b[0;32m    277\u001b[0m             \u001b[0mA\u001b[0m \u001b[0mlist\u001b[0m \u001b[0mof\u001b[0m \u001b[0msequences\u001b[0m\u001b[1;33m.\u001b[0m\u001b[1;33m\u001b[0m\u001b[1;33m\u001b[0m\u001b[0m\n\u001b[0;32m    278\u001b[0m         \"\"\"\n\u001b[1;32m--> 279\u001b[1;33m         \u001b[1;32mreturn\u001b[0m \u001b[0mlist\u001b[0m\u001b[1;33m(\u001b[0m\u001b[0mself\u001b[0m\u001b[1;33m.\u001b[0m\u001b[0mtexts_to_sequences_generator\u001b[0m\u001b[1;33m(\u001b[0m\u001b[0mtexts\u001b[0m\u001b[1;33m)\u001b[0m\u001b[1;33m)\u001b[0m\u001b[1;33m\u001b[0m\u001b[1;33m\u001b[0m\u001b[0m\n\u001b[0m\u001b[0;32m    280\u001b[0m \u001b[1;33m\u001b[0m\u001b[0m\n\u001b[0;32m    281\u001b[0m     \u001b[1;32mdef\u001b[0m \u001b[0mtexts_to_sequences_generator\u001b[0m\u001b[1;33m(\u001b[0m\u001b[0mself\u001b[0m\u001b[1;33m,\u001b[0m \u001b[0mtexts\u001b[0m\u001b[1;33m)\u001b[0m\u001b[1;33m:\u001b[0m\u001b[1;33m\u001b[0m\u001b[1;33m\u001b[0m\u001b[0m\n",
      "\u001b[1;32m~\\Anaconda3\\lib\\site-packages\\keras_preprocessing\\text.py\u001b[0m in \u001b[0;36mtexts_to_sequences_generator\u001b[1;34m(self, texts)\u001b[0m\n\u001b[0;32m    308\u001b[0m                                             \u001b[0mself\u001b[0m\u001b[1;33m.\u001b[0m\u001b[0mfilters\u001b[0m\u001b[1;33m,\u001b[0m\u001b[1;33m\u001b[0m\u001b[1;33m\u001b[0m\u001b[0m\n\u001b[0;32m    309\u001b[0m                                             \u001b[0mself\u001b[0m\u001b[1;33m.\u001b[0m\u001b[0mlower\u001b[0m\u001b[1;33m,\u001b[0m\u001b[1;33m\u001b[0m\u001b[1;33m\u001b[0m\u001b[0m\n\u001b[1;32m--> 310\u001b[1;33m                                             self.split)\n\u001b[0m\u001b[0;32m    311\u001b[0m             \u001b[0mvect\u001b[0m \u001b[1;33m=\u001b[0m \u001b[1;33m[\u001b[0m\u001b[1;33m]\u001b[0m\u001b[1;33m\u001b[0m\u001b[1;33m\u001b[0m\u001b[0m\n\u001b[0;32m    312\u001b[0m             \u001b[1;32mfor\u001b[0m \u001b[0mw\u001b[0m \u001b[1;32min\u001b[0m \u001b[0mseq\u001b[0m\u001b[1;33m:\u001b[0m\u001b[1;33m\u001b[0m\u001b[1;33m\u001b[0m\u001b[0m\n",
      "\u001b[1;32m~\\Anaconda3\\lib\\site-packages\\keras_preprocessing\\text.py\u001b[0m in \u001b[0;36mtext_to_word_sequence\u001b[1;34m(text, filters, lower, split)\u001b[0m\n\u001b[0;32m     41\u001b[0m     \"\"\"\n\u001b[0;32m     42\u001b[0m     \u001b[1;32mif\u001b[0m \u001b[0mlower\u001b[0m\u001b[1;33m:\u001b[0m\u001b[1;33m\u001b[0m\u001b[1;33m\u001b[0m\u001b[0m\n\u001b[1;32m---> 43\u001b[1;33m         \u001b[0mtext\u001b[0m \u001b[1;33m=\u001b[0m \u001b[0mtext\u001b[0m\u001b[1;33m.\u001b[0m\u001b[0mlower\u001b[0m\u001b[1;33m(\u001b[0m\u001b[1;33m)\u001b[0m\u001b[1;33m\u001b[0m\u001b[1;33m\u001b[0m\u001b[0m\n\u001b[0m\u001b[0;32m     44\u001b[0m \u001b[1;33m\u001b[0m\u001b[0m\n\u001b[0;32m     45\u001b[0m     \u001b[1;32mif\u001b[0m \u001b[0msys\u001b[0m\u001b[1;33m.\u001b[0m\u001b[0mversion_info\u001b[0m \u001b[1;33m<\u001b[0m \u001b[1;33m(\u001b[0m\u001b[1;36m3\u001b[0m\u001b[1;33m,\u001b[0m\u001b[1;33m)\u001b[0m\u001b[1;33m:\u001b[0m\u001b[1;33m\u001b[0m\u001b[1;33m\u001b[0m\u001b[0m\n",
      "\u001b[1;31mAttributeError\u001b[0m: 'int' object has no attribute 'lower'"
     ]
    }
   ],
   "source": [
    "generated = p.generate_sequence(seed=seed)"
   ]
  },
  {
   "cell_type": "code",
   "execution_count": null,
   "metadata": {},
   "outputs": [],
   "source": []
  },
  {
   "cell_type": "code",
   "execution_count": null,
   "metadata": {},
   "outputs": [],
   "source": []
  },
  {
   "cell_type": "code",
   "execution_count": null,
   "metadata": {},
   "outputs": [],
   "source": []
  }
 ],
 "metadata": {
  "kernelspec": {
   "display_name": "Python 3",
   "language": "python",
   "name": "python3"
  },
  "language_info": {
   "codemirror_mode": {
    "name": "ipython",
    "version": 3
   },
   "file_extension": ".py",
   "mimetype": "text/x-python",
   "name": "python",
   "nbconvert_exporter": "python",
   "pygments_lexer": "ipython3",
   "version": "3.7.4"
  }
 },
 "nbformat": 4,
 "nbformat_minor": 2
}
